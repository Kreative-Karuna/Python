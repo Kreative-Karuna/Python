{
 "cells": [
  {
   "cell_type": "markdown",
   "id": "c8a9ba8d",
   "metadata": {},
   "source": [
    "#### Python Data types"
   ]
  },
  {
   "cell_type": "markdown",
   "id": "38f56aef",
   "metadata": {},
   "source": [
    "###### Integer -> whole number (1,2,3,1000)"
   ]
  },
  {
   "cell_type": "markdown",
   "id": "867e803e",
   "metadata": {},
   "source": [
    "###### Float -> decimal values (1.3,0.3,0.003)"
   ]
  },
  {
   "cell_type": "markdown",
   "id": "8ce360a4",
   "metadata": {},
   "source": [
    "###### String -> ordered sequence of char(\"s\",360, True, False)"
   ]
  },
  {
   "cell_type": "markdown",
   "id": "8211f5b0",
   "metadata": {},
   "source": [
    "###### Complex -> Complex numbers are written with a \"j\" as the imaginary part (2+3j)"
   ]
  },
  {
   "cell_type": "code",
   "execution_count": 1,
   "id": "122f132c",
   "metadata": {},
   "outputs": [
    {
     "name": "stdout",
     "output_type": "stream",
     "text": [
      "23\n"
     ]
    }
   ],
   "source": [
    "print(23) # integer"
   ]
  },
  {
   "cell_type": "code",
   "execution_count": 2,
   "id": "b00f013e",
   "metadata": {},
   "outputs": [
    {
     "name": "stdout",
     "output_type": "stream",
     "text": [
      "Python session\n"
     ]
    }
   ],
   "source": [
    "print(\"Python session\") # string"
   ]
  },
  {
   "cell_type": "markdown",
   "id": "5a19512a",
   "metadata": {},
   "source": [
    "#### Mathematical Operators"
   ]
  },
  {
   "cell_type": "code",
   "execution_count": 3,
   "id": "ceed11e8",
   "metadata": {},
   "outputs": [
    {
     "data": {
      "text/plain": [
       "6"
      ]
     },
     "execution_count": 3,
     "metadata": {},
     "output_type": "execute_result"
    }
   ],
   "source": [
    "2+4"
   ]
  },
  {
   "cell_type": "code",
   "execution_count": 4,
   "id": "81268f7b",
   "metadata": {},
   "outputs": [
    {
     "data": {
      "text/plain": [
       "-2"
      ]
     },
     "execution_count": 4,
     "metadata": {},
     "output_type": "execute_result"
    }
   ],
   "source": [
    "2-4"
   ]
  },
  {
   "cell_type": "markdown",
   "id": "65d59e9d",
   "metadata": {},
   "source": [
    "#### Variable declaration # we declare variable to store output value"
   ]
  },
  {
   "cell_type": "code",
   "execution_count": 5,
   "id": "6ca11656",
   "metadata": {},
   "outputs": [
    {
     "name": "stdout",
     "output_type": "stream",
     "text": [
      "9\n"
     ]
    }
   ],
   "source": [
    "x = 4\n",
    "y = 5\n",
    "z = x+y\n",
    "print(z)"
   ]
  },
  {
   "cell_type": "code",
   "execution_count": 6,
   "id": "87b715a0",
   "metadata": {},
   "outputs": [
    {
     "data": {
      "text/plain": [
       "int"
      ]
     },
     "execution_count": 6,
     "metadata": {},
     "output_type": "execute_result"
    }
   ],
   "source": [
    "type(z) # checking data type"
   ]
  },
  {
   "cell_type": "code",
   "execution_count": 7,
   "id": "cb126864",
   "metadata": {},
   "outputs": [
    {
     "data": {
      "text/plain": [
       "float"
      ]
     },
     "execution_count": 7,
     "metadata": {},
     "output_type": "execute_result"
    }
   ],
   "source": [
    "a = 1.2\n",
    "type(a)"
   ]
  },
  {
   "cell_type": "code",
   "execution_count": 9,
   "id": "a1867233",
   "metadata": {},
   "outputs": [
    {
     "data": {
      "text/plain": [
       "str"
      ]
     },
     "execution_count": 9,
     "metadata": {},
     "output_type": "execute_result"
    }
   ],
   "source": [
    "al = 'python'\n",
    "type(al)"
   ]
  },
  {
   "cell_type": "markdown",
   "id": "5f58e8ea",
   "metadata": {},
   "source": [
    "#### Complex Number"
   ]
  },
  {
   "cell_type": "code",
   "execution_count": 8,
   "id": "7711503d",
   "metadata": {},
   "outputs": [
    {
     "data": {
      "text/plain": [
       "complex"
      ]
     },
     "execution_count": 8,
     "metadata": {},
     "output_type": "execute_result"
    }
   ],
   "source": [
    "cmpl = 2+3j\n",
    "type(cmpl)"
   ]
  },
  {
   "cell_type": "markdown",
   "id": "b680266c",
   "metadata": {},
   "source": [
    "#### Boolean Type"
   ]
  },
  {
   "cell_type": "code",
   "execution_count": 9,
   "id": "4931cc64",
   "metadata": {},
   "outputs": [
    {
     "data": {
      "text/plain": [
       "bool"
      ]
     },
     "execution_count": 9,
     "metadata": {},
     "output_type": "execute_result"
    }
   ],
   "source": [
    "type(True)"
   ]
  },
  {
   "cell_type": "code",
   "execution_count": 10,
   "id": "1f3541de",
   "metadata": {},
   "outputs": [
    {
     "data": {
      "text/plain": [
       "bool"
      ]
     },
     "execution_count": 10,
     "metadata": {},
     "output_type": "execute_result"
    }
   ],
   "source": [
    "type(False)"
   ]
  },
  {
   "cell_type": "code",
   "execution_count": 11,
   "id": "a8ec9629",
   "metadata": {},
   "outputs": [
    {
     "ename": "SyntaxError",
     "evalue": "invalid decimal literal (1085354299.py, line 1)",
     "output_type": "error",
     "traceback": [
      "\u001b[1;36m  Cell \u001b[1;32mIn[11], line 1\u001b[1;36m\u001b[0m\n\u001b[1;33m    cmpl = 2+3H  #alphabet cannot be capital\u001b[0m\n\u001b[1;37m             ^\u001b[0m\n\u001b[1;31mSyntaxError\u001b[0m\u001b[1;31m:\u001b[0m invalid decimal literal\n"
     ]
    }
   ],
   "source": [
    "cmpl = 2+3H  #alphabet cannot be capital\n",
    "type(cmpl)"
   ]
  },
  {
   "cell_type": "markdown",
   "id": "128a78b1",
   "metadata": {},
   "source": [
    "#### String"
   ]
  },
  {
   "cell_type": "code",
   "execution_count": 12,
   "id": "32514057",
   "metadata": {},
   "outputs": [],
   "source": [
    "a = \"This is introduction to Python session\""
   ]
  },
  {
   "cell_type": "code",
   "execution_count": 13,
   "id": "9ee01bac",
   "metadata": {},
   "outputs": [
    {
     "name": "stdout",
     "output_type": "stream",
     "text": [
      "This is introduction to Python session\n"
     ]
    }
   ],
   "source": [
    "print(a)"
   ]
  },
  {
   "cell_type": "code",
   "execution_count": 14,
   "id": "245495ca",
   "metadata": {},
   "outputs": [
    {
     "data": {
      "text/plain": [
       "str"
      ]
     },
     "execution_count": 14,
     "metadata": {},
     "output_type": "execute_result"
    }
   ],
   "source": [
    "type(a)"
   ]
  },
  {
   "cell_type": "code",
   "execution_count": 15,
   "id": "570148d0",
   "metadata": {},
   "outputs": [
    {
     "data": {
      "text/plain": [
       "38"
      ]
     },
     "execution_count": 15,
     "metadata": {},
     "output_type": "execute_result"
    }
   ],
   "source": [
    "len(a) #spaces are also counted in length, index in python starts from 0"
   ]
  },
  {
   "cell_type": "code",
   "execution_count": 16,
   "id": "1bf52c15",
   "metadata": {},
   "outputs": [
    {
     "name": "stdout",
     "output_type": "stream",
     "text": [
      "T\n"
     ]
    }
   ],
   "source": [
    "print(a[0])"
   ]
  },
  {
   "cell_type": "code",
   "execution_count": 17,
   "id": "3430cc47",
   "metadata": {},
   "outputs": [
    {
     "name": "stdout",
     "output_type": "stream",
     "text": [
      "s\n"
     ]
    }
   ],
   "source": [
    "print(a[3])"
   ]
  },
  {
   "cell_type": "code",
   "execution_count": 18,
   "id": "bf397cd1",
   "metadata": {},
   "outputs": [
    {
     "name": "stdout",
     "output_type": "stream",
     "text": [
      "his \n"
     ]
    }
   ],
   "source": [
    "print(a[1:5]) # the last no. is not taken in range"
   ]
  },
  {
   "cell_type": "code",
   "execution_count": 19,
   "id": "4ae1985f",
   "metadata": {},
   "outputs": [
    {
     "name": "stdout",
     "output_type": "stream",
     "text": [
      "his i\n"
     ]
    }
   ],
   "source": [
    "print(a[1:6])"
   ]
  },
  {
   "cell_type": "code",
   "execution_count": 20,
   "id": "b79d90c6",
   "metadata": {},
   "outputs": [
    {
     "name": "stdout",
     "output_type": "stream",
     "text": [
      "n\n"
     ]
    }
   ],
   "source": [
    "print(a[-1])"
   ]
  },
  {
   "cell_type": "code",
   "execution_count": 21,
   "id": "b008b7a6",
   "metadata": {},
   "outputs": [
    {
     "name": "stdout",
     "output_type": "stream",
     "text": [
      "io\n"
     ]
    }
   ],
   "source": [
    "print(a[-3:-1]) #here it is taking from last index value"
   ]
  },
  {
   "cell_type": "markdown",
   "id": "93df0ded",
   "metadata": {},
   "source": [
    "### String Manipulation"
   ]
  },
  {
   "cell_type": "code",
   "execution_count": 22,
   "id": "662716aa",
   "metadata": {},
   "outputs": [
    {
     "ename": "TypeError",
     "evalue": "can only concatenate str (not \"int\") to str",
     "output_type": "error",
     "traceback": [
      "\u001b[1;31m---------------------------------------------------------------------------\u001b[0m",
      "\u001b[1;31mTypeError\u001b[0m                                 Traceback (most recent call last)",
      "Cell \u001b[1;32mIn[22], line 2\u001b[0m\n\u001b[0;32m      1\u001b[0m i \u001b[38;5;241m=\u001b[39m \u001b[38;5;241m1\u001b[39m\n\u001b[1;32m----> 2\u001b[0m a1 \u001b[38;5;241m=\u001b[39m (\u001b[38;5;124;43m\"\u001b[39;49m\u001b[38;5;124;43mthis is python session\u001b[39;49m\u001b[38;5;124;43m\"\u001b[39;49m\u001b[43m \u001b[49m\u001b[38;5;241;43m+\u001b[39;49m\u001b[43m \u001b[49m\u001b[43m(\u001b[49m\u001b[43mi\u001b[49m\u001b[43m)\u001b[49m \u001b[38;5;241m+\u001b[39m \u001b[38;5;124m\"\u001b[39m\u001b[38;5;124mto you\u001b[39m\u001b[38;5;124m\"\u001b[39m)\n",
      "\u001b[1;31mTypeError\u001b[0m: can only concatenate str (not \"int\") to str"
     ]
    }
   ],
   "source": [
    "i = 1\n",
    "a1 = (\"this is python session\" + (i) + \"to you\") # its throwing error coz here i contains the int value and not string"
   ]
  },
  {
   "cell_type": "code",
   "execution_count": 23,
   "id": "4dd5378c",
   "metadata": {},
   "outputs": [
    {
     "name": "stdout",
     "output_type": "stream",
     "text": [
      "this is python session 1 to you\n"
     ]
    }
   ],
   "source": [
    "i = 1\n",
    "a1 = (\"this is python session \" + str(i) + \" to you\")  # converting i to string data type will accept the value\n",
    "print(a1)"
   ]
  },
  {
   "cell_type": "code",
   "execution_count": 24,
   "id": "3515fe7e",
   "metadata": {},
   "outputs": [
    {
     "name": "stdout",
     "output_type": "stream",
     "text": [
      "pls enter the session number5\n",
      "this is python session 5 to you\n"
     ]
    }
   ],
   "source": [
    "i = input(\"pls enter the session number\")\n",
    "a1 = (\"this is python session \"+ str(i) + \" to you\")\n",
    "print(a1)"
   ]
  },
  {
   "cell_type": "code",
   "execution_count": 25,
   "id": "89a01099",
   "metadata": {},
   "outputs": [
    {
     "name": "stdout",
     "output_type": "stream",
     "text": [
      "Hello\n",
      "Hello\n"
     ]
    }
   ],
   "source": [
    "i1 = input(\"\")\n",
    "print(i1)"
   ]
  },
  {
   "cell_type": "code",
   "execution_count": 26,
   "id": "6e7d3141",
   "metadata": {},
   "outputs": [
    {
     "name": "stdout",
     "output_type": "stream",
     "text": [
      "plz enter the session number : 7\n",
      "this is python session 7 to you\n"
     ]
    }
   ],
   "source": [
    "i1 = input(\"plz enter the session number : \")   # here int is stopping user to enter strings but only enter integer values.\n",
    "a11 = (\"this is python session \"+ str(i1) + \" to you\")\n",
    "print(a11)"
   ]
  },
  {
   "cell_type": "code",
   "execution_count": 27,
   "id": "e37d433f",
   "metadata": {},
   "outputs": [
    {
     "name": "stdout",
     "output_type": "stream",
     "text": [
      "plz enter the session number : 9\n",
      "this is python session 9 to you\n"
     ]
    }
   ],
   "source": [
    "i1 = int(input(\"plz enter the session number : \"))\n",
    "a11 = (\"this is python session \"+ str(i1) + \" to you\")\n",
    "print(a11)"
   ]
  },
  {
   "cell_type": "code",
   "execution_count": 27,
   "id": "26075c1b",
   "metadata": {},
   "outputs": [
    {
     "name": "stdout",
     "output_type": "stream",
     "text": [
      "plz enter the session number : 999\n",
      "this is python session 999 to you\n"
     ]
    }
   ],
   "source": [
    "i1 = int(input(\"plz enter the session number : \"))\n",
    "a11 = (\"this is python session \"+ str(i1) + \" to you\")\n",
    "print(a11)"
   ]
  },
  {
   "cell_type": "code",
   "execution_count": 28,
   "id": "60e58502",
   "metadata": {},
   "outputs": [
    {
     "name": "stdout",
     "output_type": "stream",
     "text": [
      "Please enter your name : Karuna\n",
      " Please enter your session No. 10\n",
      "This is Karuna and this is python session No.10 to you\n"
     ]
    }
   ],
   "source": [
    "name = str(input(\"Please enter your name : \"))\n",
    "session = int(input(\" Please enter your session No. \"))\n",
    "print(\"This is \"+name +\" and this is python session No.\"+ str(session) + \" to you\")  # here we are putting str with session to convert it to str from int as str and str can only be concatenated"
   ]
  },
  {
   "cell_type": "code",
   "execution_count": 29,
   "id": "23b0c2a2",
   "metadata": {},
   "outputs": [
    {
     "name": "stdout",
     "output_type": "stream",
     "text": [
      "Please enter your Name : Karuna\n",
      " Please enter your session No. 11\n",
      "This is Karuna and this is python session No. 11 to you\n"
     ]
    }
   ],
   "source": [
    "# using 'format'\n",
    "name = str(input(\"Please enter your Name : \"))\n",
    "session = int(input(\" Please enter your session No. \"))\n",
    "print(\"This is {} and this is python session No. {} to you\".format(name,session))"
   ]
  },
  {
   "cell_type": "code",
   "execution_count": 30,
   "id": "3f1ec0ab",
   "metadata": {},
   "outputs": [
    {
     "name": "stdout",
     "output_type": "stream",
     "text": [
      "Please enter your Name : Karuna\n",
      " Please enter your session No. 12\n",
      "This is 12 and this is python session No. Karuna to you\n"
     ]
    }
   ],
   "source": [
    "name = str(input(\"Please enter your Name : \"))\n",
    "session = int(input(\" Please enter your session No. \"))\n",
    "print(\"This is {} and this is python session No. {} to you\".format(session,name))"
   ]
  },
  {
   "cell_type": "code",
   "execution_count": 31,
   "id": "8fcfb7a1",
   "metadata": {},
   "outputs": [
    {
     "name": "stdout",
     "output_type": "stream",
     "text": [
      "Please enter your Name : Karuna\n",
      " Please enter your session No. 15\n",
      "This is Karuna and this is python session No. 15 to you\n"
     ]
    }
   ],
   "source": [
    "name = str(input(\"Please enter your Name : \"))\n",
    "session = int(input(\" Please enter your session No. \"))\n",
    "print(\"This is {n} and this is python session No. {s} to you\".format(n=name,s=session))"
   ]
  },
  {
   "cell_type": "code",
   "execution_count": 32,
   "id": "5a7e048d",
   "metadata": {},
   "outputs": [],
   "source": [
    "a = \"this is introduction to Python session\""
   ]
  },
  {
   "cell_type": "code",
   "execution_count": 33,
   "id": "651010ee",
   "metadata": {},
   "outputs": [
    {
     "data": {
      "text/plain": [
       "'This is introduction to python session'"
      ]
     },
     "execution_count": 33,
     "metadata": {},
     "output_type": "execute_result"
    }
   ],
   "source": [
    "a.capitalize()"
   ]
  },
  {
   "cell_type": "code",
   "execution_count": 34,
   "id": "5e7747bc",
   "metadata": {},
   "outputs": [
    {
     "data": {
      "text/plain": [
       "'THIS IS INTRODUCTION TO PYTHON SESSION'"
      ]
     },
     "execution_count": 34,
     "metadata": {},
     "output_type": "execute_result"
    }
   ],
   "source": [
    "a2 = a.upper()\n",
    "a2"
   ]
  },
  {
   "cell_type": "code",
   "execution_count": 35,
   "id": "0aa955fe",
   "metadata": {},
   "outputs": [
    {
     "data": {
      "text/plain": [
       "'this is introduction to python session'"
      ]
     },
     "execution_count": 35,
     "metadata": {},
     "output_type": "execute_result"
    }
   ],
   "source": [
    "a3 = a2.lower()\n",
    "a3"
   ]
  },
  {
   "cell_type": "code",
   "execution_count": 36,
   "id": "2816797e",
   "metadata": {},
   "outputs": [
    {
     "data": {
      "text/plain": [
       "False"
      ]
     },
     "execution_count": 36,
     "metadata": {},
     "output_type": "execute_result"
    }
   ],
   "source": [
    "an = \"this is Karuna and this is python session No.2 to you\"\n",
    "an.isalnum() # The isalnum() returns True if all the characters are alphanumeric."
   ]
  },
  {
   "cell_type": "code",
   "execution_count": 37,
   "id": "2b7ea40e",
   "metadata": {},
   "outputs": [
    {
     "data": {
      "text/plain": [
       "False"
      ]
     },
     "execution_count": 37,
     "metadata": {},
     "output_type": "execute_result"
    }
   ],
   "source": [
    "anl = \"this is alpha 2\"\n",
    "anl.isalnum()"
   ]
  },
  {
   "cell_type": "code",
   "execution_count": 38,
   "id": "27a98922",
   "metadata": {},
   "outputs": [
    {
     "ename": "AttributeError",
     "evalue": "'tuple' object has no attribute 'isalnum'",
     "output_type": "error",
     "traceback": [
      "\u001b[1;31m---------------------------------------------------------------------------\u001b[0m",
      "\u001b[1;31mAttributeError\u001b[0m                            Traceback (most recent call last)",
      "Cell \u001b[1;32mIn[38], line 2\u001b[0m\n\u001b[0;32m      1\u001b[0m anl \u001b[38;5;241m=\u001b[39m \u001b[38;5;241m1\u001b[39m,\u001b[38;5;124m\"\u001b[39m\u001b[38;5;124msrtt\u001b[39m\u001b[38;5;124m\"\u001b[39m\n\u001b[1;32m----> 2\u001b[0m \u001b[43manl\u001b[49m\u001b[38;5;241;43m.\u001b[39;49m\u001b[43misalnum\u001b[49m()\n",
      "\u001b[1;31mAttributeError\u001b[0m: 'tuple' object has no attribute 'isalnum'"
     ]
    }
   ],
   "source": [
    "anl = 1,\"srtt\"\n",
    "anl.isalnum() # it doesn't work with Tuple"
   ]
  },
  {
   "cell_type": "code",
   "execution_count": 39,
   "id": "86e39781",
   "metadata": {},
   "outputs": [
    {
     "data": {
      "text/plain": [
       "str"
      ]
     },
     "execution_count": 39,
     "metadata": {},
     "output_type": "execute_result"
    }
   ],
   "source": [
    "anl1 = \"Max10\"\n",
    "type(anl1)"
   ]
  },
  {
   "cell_type": "code",
   "execution_count": 40,
   "id": "80545cf0",
   "metadata": {},
   "outputs": [
    {
     "data": {
      "text/plain": [
       "'this is Karuna and this is python session no.2 to you'"
      ]
     },
     "execution_count": 40,
     "metadata": {},
     "output_type": "execute_result"
    }
   ],
   "source": [
    "b = \"this is Karuna and this is python session no.2 to you\"\n",
    "b"
   ]
  },
  {
   "cell_type": "code",
   "execution_count": 41,
   "id": "4637683a",
   "metadata": {},
   "outputs": [
    {
     "data": {
      "text/plain": [
       "'this is Kammy and this is python session no.2 to you'"
      ]
     },
     "execution_count": 41,
     "metadata": {},
     "output_type": "execute_result"
    }
   ],
   "source": [
    "d = b.replace(\"Karuna\",\"Kammy\")\n",
    "d"
   ]
  },
  {
   "cell_type": "code",
   "execution_count": 42,
   "id": "c476848d",
   "metadata": {},
   "outputs": [
    {
     "data": {
      "text/plain": [
       "'thwas is Karuna and this is python session no.2 to you'"
      ]
     },
     "execution_count": 42,
     "metadata": {},
     "output_type": "execute_result"
    }
   ],
   "source": [
    "d1 = b.replace('is','was',1)\n",
    "d1"
   ]
  },
  {
   "cell_type": "code",
   "execution_count": 43,
   "id": "30382239",
   "metadata": {},
   "outputs": [
    {
     "data": {
      "text/plain": [
       "'Line1-abcde Line2-abc \\nLine4-abcd'"
      ]
     },
     "execution_count": 43,
     "metadata": {},
     "output_type": "execute_result"
    }
   ],
   "source": [
    "split = \"Line1-abcde Line2-abc \\nLine4-abcd\"  \n",
    "split"
   ]
  },
  {
   "cell_type": "code",
   "execution_count": 44,
   "id": "85d8018b",
   "metadata": {},
   "outputs": [
    {
     "name": "stdout",
     "output_type": "stream",
     "text": [
      "['Line1-abcde', 'Line2-abc', 'Line4-abcd']\n"
     ]
    }
   ],
   "source": [
    "print(split.split()) #here spaces are replace with comma, i.e split is done"
   ]
  },
  {
   "cell_type": "code",
   "execution_count": 45,
   "id": "83b314fb",
   "metadata": {},
   "outputs": [
    {
     "name": "stdout",
     "output_type": "stream",
     "text": [
      "['Line1', 'abcde Line2', 'abc \\nLine4', 'abcd']\n"
     ]
    }
   ],
   "source": [
    "print(split.split('-')) # here  split is done at'-' "
   ]
  },
  {
   "cell_type": "code",
   "execution_count": 46,
   "id": "8c662843",
   "metadata": {},
   "outputs": [
    {
     "name": "stdout",
     "output_type": "stream",
     "text": [
      "['Line1-abcde Line2-abc ', 'Line4-abcd']\n"
     ]
    }
   ],
   "source": [
    "print(split.split('\\n')) # here  split is done at ''\\n'"
   ]
  },
  {
   "cell_type": "markdown",
   "id": "41ab95b4",
   "metadata": {},
   "source": [
    "# Lists"
   ]
  },
  {
   "cell_type": "markdown",
   "id": "1f96dfc5",
   "metadata": {},
   "source": [
    "Ordered sequence of objects, it can be an integer, a string, a complx, a boolean, a float."
   ]
  },
  {
   "cell_type": "code",
   "execution_count": 47,
   "id": "835e9d7f",
   "metadata": {},
   "outputs": [],
   "source": [
    "list1 = [\"python\", 23, 0.3, True, 3+3j,[1,2,3]]"
   ]
  },
  {
   "cell_type": "code",
   "execution_count": 48,
   "id": "ca85910b",
   "metadata": {},
   "outputs": [
    {
     "data": {
      "text/plain": [
       "'python'"
      ]
     },
     "execution_count": 48,
     "metadata": {},
     "output_type": "execute_result"
    }
   ],
   "source": [
    "list1[0]"
   ]
  },
  {
   "cell_type": "code",
   "execution_count": 49,
   "id": "3159d263",
   "metadata": {},
   "outputs": [
    {
     "data": {
      "text/plain": [
       "0.3"
      ]
     },
     "execution_count": 49,
     "metadata": {},
     "output_type": "execute_result"
    }
   ],
   "source": [
    "list1[2]"
   ]
  },
  {
   "cell_type": "code",
   "execution_count": 50,
   "id": "ce17de1c",
   "metadata": {},
   "outputs": [
    {
     "data": {
      "text/plain": [
       "[1, 2, 3]"
      ]
     },
     "execution_count": 50,
     "metadata": {},
     "output_type": "execute_result"
    }
   ],
   "source": [
    "list1[5]"
   ]
  },
  {
   "cell_type": "markdown",
   "id": "43f2f1ea",
   "metadata": {},
   "source": [
    "#### append in list"
   ]
  },
  {
   "cell_type": "code",
   "execution_count": 51,
   "id": "36a815d9",
   "metadata": {},
   "outputs": [],
   "source": [
    "list1[5][2]=2"
   ]
  },
  {
   "cell_type": "code",
   "execution_count": 52,
   "id": "dee410e9",
   "metadata": {},
   "outputs": [
    {
     "data": {
      "text/plain": [
       "['python', 23, 0.3, True, (3+3j), [1, 2, 2]]"
      ]
     },
     "execution_count": 52,
     "metadata": {},
     "output_type": "execute_result"
    }
   ],
   "source": [
    "list1"
   ]
  },
  {
   "cell_type": "code",
   "execution_count": 53,
   "id": "b854dee7",
   "metadata": {},
   "outputs": [
    {
     "data": {
      "text/plain": [
       "2"
      ]
     },
     "execution_count": 53,
     "metadata": {},
     "output_type": "execute_result"
    }
   ],
   "source": [
    "list1[5][2] # here 5th element has a different lit'[1,2,3], this list has its own index, i.e 0,1,2"
   ]
  },
  {
   "cell_type": "code",
   "execution_count": 54,
   "id": "2e33d773",
   "metadata": {},
   "outputs": [
    {
     "data": {
      "text/plain": [
       "['python', 23, 0.3, True, (3+3j), [1, 2, 2], 222]"
      ]
     },
     "execution_count": 54,
     "metadata": {},
     "output_type": "execute_result"
    }
   ],
   "source": [
    "list1.append(222)\n",
    "list1"
   ]
  },
  {
   "cell_type": "code",
   "execution_count": 55,
   "id": "ed452308",
   "metadata": {},
   "outputs": [
    {
     "data": {
      "text/plain": [
       "['python', 23, 0.3, True, (3+3j), [1, 2, 2], 222, [21, 22]]"
      ]
     },
     "execution_count": 55,
     "metadata": {},
     "output_type": "execute_result"
    }
   ],
   "source": [
    "list1.append([21,22])\n",
    "list1"
   ]
  },
  {
   "cell_type": "markdown",
   "id": "501a0347",
   "metadata": {},
   "source": [
    "#### pop function is used to remove a value from a list"
   ]
  },
  {
   "cell_type": "code",
   "execution_count": 56,
   "id": "c6fea278",
   "metadata": {},
   "outputs": [
    {
     "data": {
      "text/plain": [
       "['python', 23, 0.3, True, (3+3j), [1, 2, 2], 222]"
      ]
     },
     "execution_count": 56,
     "metadata": {},
     "output_type": "execute_result"
    }
   ],
   "source": [
    "list1.pop() # last value is removed\n",
    "list1"
   ]
  },
  {
   "cell_type": "code",
   "execution_count": 57,
   "id": "0eeefda0",
   "metadata": {},
   "outputs": [
    {
     "data": {
      "text/plain": [
       "['python', 23, 0.3, True, [1, 2, 2], 222]"
      ]
     },
     "execution_count": 57,
     "metadata": {},
     "output_type": "execute_result"
    }
   ],
   "source": [
    "list1.pop(4) # 4th element is popped out\n",
    "list1"
   ]
  },
  {
   "cell_type": "markdown",
   "id": "4254677f",
   "metadata": {},
   "source": [
    "#### insert"
   ]
  },
  {
   "cell_type": "code",
   "execution_count": 58,
   "id": "d0c0e470",
   "metadata": {
    "scrolled": true
   },
   "outputs": [
    {
     "data": {
      "text/plain": [
       "['python', 23, 0.3, 2009, True, [1, 2, 2], 222]"
      ]
     },
     "execution_count": 58,
     "metadata": {},
     "output_type": "execute_result"
    }
   ],
   "source": [
    "list1.insert(3,2009)\n",
    "list1"
   ]
  },
  {
   "cell_type": "code",
   "execution_count": 59,
   "id": "dc729c52",
   "metadata": {},
   "outputs": [
    {
     "data": {
      "text/plain": [
       "['python', 23, 0.3, 2009, 2010, True, [1, 2, 2], 222]"
      ]
     },
     "execution_count": 59,
     "metadata": {},
     "output_type": "execute_result"
    }
   ],
   "source": [
    "list1.insert(4,2010)\n",
    "list1"
   ]
  },
  {
   "cell_type": "markdown",
   "id": "562ed4a5",
   "metadata": {},
   "source": [
    "#### append"
   ]
  },
  {
   "cell_type": "code",
   "execution_count": 60,
   "id": "4e593854",
   "metadata": {},
   "outputs": [
    {
     "name": "stdout",
     "output_type": "stream",
     "text": [
      "['python', 23, 0.3, 2009, 2010, True, [1, 2, 2], 222, 'Karuna1']\n"
     ]
    }
   ],
   "source": [
    "list1.append(\"Karuna1\") #adds the element at the end\n",
    "print(list1)"
   ]
  },
  {
   "cell_type": "markdown",
   "id": "41f8e105",
   "metadata": {},
   "source": [
    "#### extend"
   ]
  },
  {
   "cell_type": "code",
   "execution_count": 61,
   "id": "9f555559",
   "metadata": {
    "scrolled": true
   },
   "outputs": [
    {
     "name": "stdout",
     "output_type": "stream",
     "text": [
      "['python', 23, 0.3, 2009, 2010, True, [1, 2, 2], 222, 'Karuna1', 'K', 'a', 'r', 'u', 'n', 'a', '2']\n"
     ]
    }
   ],
   "source": [
    "list1.extend(\"Karuna2\") # here element is added whole string as single item\n",
    "print(list1)"
   ]
  },
  {
   "cell_type": "markdown",
   "id": "12d15fd2",
   "metadata": {},
   "source": [
    "#### reverse"
   ]
  },
  {
   "cell_type": "code",
   "execution_count": 62,
   "id": "b24aa9a0",
   "metadata": {},
   "outputs": [
    {
     "name": "stdout",
     "output_type": "stream",
     "text": [
      "None\n"
     ]
    },
    {
     "data": {
      "text/plain": [
       "['2',\n",
       " 'a',\n",
       " 'n',\n",
       " 'u',\n",
       " 'r',\n",
       " 'a',\n",
       " 'K',\n",
       " 'Karuna1',\n",
       " 222,\n",
       " [1, 2, 2],\n",
       " True,\n",
       " 2010,\n",
       " 2009,\n",
       " 0.3,\n",
       " 23,\n",
       " 'python']"
      ]
     },
     "execution_count": 62,
     "metadata": {},
     "output_type": "execute_result"
    }
   ],
   "source": [
    "print(list1.reverse())\n",
    "list1"
   ]
  },
  {
   "cell_type": "code",
   "execution_count": 63,
   "id": "ea838d2f",
   "metadata": {},
   "outputs": [
    {
     "name": "stdout",
     "output_type": "stream",
     "text": [
      "1\n"
     ]
    }
   ],
   "source": [
    "print(list1.count(23))"
   ]
  },
  {
   "cell_type": "code",
   "execution_count": 64,
   "id": "8cf41963",
   "metadata": {},
   "outputs": [
    {
     "name": "stdout",
     "output_type": "stream",
     "text": [
      "1\n"
     ]
    }
   ],
   "source": [
    "print(list1.count(\"python\"))"
   ]
  },
  {
   "cell_type": "code",
   "execution_count": 65,
   "id": "b52c65bb",
   "metadata": {},
   "outputs": [
    {
     "name": "stdout",
     "output_type": "stream",
     "text": [
      "1\n"
     ]
    }
   ],
   "source": [
    "print(list1.count([1,2,2]))"
   ]
  },
  {
   "cell_type": "code",
   "execution_count": 66,
   "id": "c354a1d5",
   "metadata": {},
   "outputs": [
    {
     "name": "stdout",
     "output_type": "stream",
     "text": [
      "[3, 2, 1]\n"
     ]
    }
   ],
   "source": [
    "list2 = list1[6]\n",
    "list3 = [3,2,1]\n",
    "print(list3)"
   ]
  },
  {
   "cell_type": "code",
   "execution_count": 67,
   "id": "d7343736",
   "metadata": {},
   "outputs": [
    {
     "data": {
      "text/plain": [
       "[3, 2, 1]"
      ]
     },
     "execution_count": 67,
     "metadata": {},
     "output_type": "execute_result"
    }
   ],
   "source": [
    "list3"
   ]
  },
  {
   "cell_type": "code",
   "execution_count": 68,
   "id": "57fc2fa6",
   "metadata": {},
   "outputs": [
    {
     "data": {
      "text/plain": [
       "str"
      ]
     },
     "execution_count": 68,
     "metadata": {},
     "output_type": "execute_result"
    }
   ],
   "source": [
    "type(list2)"
   ]
  },
  {
   "cell_type": "code",
   "execution_count": 69,
   "id": "f61f4ae9",
   "metadata": {},
   "outputs": [
    {
     "data": {
      "text/plain": [
       "list"
      ]
     },
     "execution_count": 69,
     "metadata": {},
     "output_type": "execute_result"
    }
   ],
   "source": [
    "type(list3)"
   ]
  },
  {
   "cell_type": "code",
   "execution_count": 70,
   "id": "5eeedd08",
   "metadata": {},
   "outputs": [
    {
     "ename": "TypeError",
     "evalue": "can only concatenate str (not \"list\") to str",
     "output_type": "error",
     "traceback": [
      "\u001b[1;31m---------------------------------------------------------------------------\u001b[0m",
      "\u001b[1;31mTypeError\u001b[0m                                 Traceback (most recent call last)",
      "Cell \u001b[1;32mIn[70], line 1\u001b[0m\n\u001b[1;32m----> 1\u001b[0m list4 \u001b[38;5;241m=\u001b[39m \u001b[43mlist2\u001b[49m\u001b[38;5;241;43m+\u001b[39;49m\u001b[43mlist3\u001b[49m \u001b[38;5;66;03m#same data type can only be added\u001b[39;00m\n\u001b[0;32m      2\u001b[0m \u001b[38;5;28mprint\u001b[39m(list4)\n",
      "\u001b[1;31mTypeError\u001b[0m: can only concatenate str (not \"list\") to str"
     ]
    }
   ],
   "source": [
    "list4 = list2+list3 #same data type can only be added\n",
    "print(list4)"
   ]
  },
  {
   "cell_type": "code",
   "execution_count": 71,
   "id": "93c875e7",
   "metadata": {},
   "outputs": [
    {
     "data": {
      "text/plain": [
       "[3, 2, 1, 3, 2, 1, 3, 2, 1]"
      ]
     },
     "execution_count": 71,
     "metadata": {},
     "output_type": "execute_result"
    }
   ],
   "source": [
    "list5 = list3*3  # here all the elements are created 3times\n",
    "list5"
   ]
  },
  {
   "cell_type": "markdown",
   "id": "1d5a02ad",
   "metadata": {},
   "source": [
    "### Tuple"
   ]
  },
  {
   "cell_type": "code",
   "execution_count": 72,
   "id": "701ffa9c",
   "metadata": {},
   "outputs": [],
   "source": [
    "tup = (\"python\", 23, 0.3, True, 3+3j,[1,2,3]) # values cannot be changed in tuple however we can change in list, only difference."
   ]
  },
  {
   "cell_type": "code",
   "execution_count": 73,
   "id": "9fa7d051",
   "metadata": {},
   "outputs": [
    {
     "data": {
      "text/plain": [
       "(1, 23, 4, 'p', 'y', 't')"
      ]
     },
     "execution_count": 73,
     "metadata": {},
     "output_type": "execute_result"
    }
   ],
   "source": [
    "tup1 = (1,23,4)\n",
    "tup2 = (\"p\",\"y\",\"t\")\n",
    "tup3 = tup1+tup2\n",
    "tup3"
   ]
  },
  {
   "cell_type": "code",
   "execution_count": 74,
   "id": "c4f4d007",
   "metadata": {},
   "outputs": [
    {
     "data": {
      "text/plain": [
       "'p'"
      ]
     },
     "execution_count": 74,
     "metadata": {},
     "output_type": "execute_result"
    }
   ],
   "source": [
    "tup2[0]"
   ]
  },
  {
   "cell_type": "code",
   "execution_count": 75,
   "id": "c14df7d8",
   "metadata": {},
   "outputs": [],
   "source": [
    "del(tup)"
   ]
  },
  {
   "cell_type": "code",
   "execution_count": 76,
   "id": "f3e73bf8",
   "metadata": {},
   "outputs": [
    {
     "ename": "NameError",
     "evalue": "name 'tup' is not defined",
     "output_type": "error",
     "traceback": [
      "\u001b[1;31m---------------------------------------------------------------------------\u001b[0m",
      "\u001b[1;31mNameError\u001b[0m                                 Traceback (most recent call last)",
      "Cell \u001b[1;32mIn[76], line 1\u001b[0m\n\u001b[1;32m----> 1\u001b[0m \u001b[43mtup\u001b[49m\n",
      "\u001b[1;31mNameError\u001b[0m: name 'tup' is not defined"
     ]
    }
   ],
   "source": [
    "tup # tup is deleted"
   ]
  },
  {
   "cell_type": "markdown",
   "id": "37994a5c",
   "metadata": {},
   "source": [
    "### Dictionaries"
   ]
  },
  {
   "cell_type": "code",
   "execution_count": 77,
   "id": "e288c81e",
   "metadata": {},
   "outputs": [],
   "source": [
    "dict1 = {\"Key\":\"Value\"} # List =[], Tuple =(), Dictionary ={\"key\" : \"value\"}"
   ]
  },
  {
   "cell_type": "code",
   "execution_count": 78,
   "id": "3ceba190",
   "metadata": {},
   "outputs": [],
   "source": [
    "name = { \"Weight\":80, \"Height\":5.10}"
   ]
  },
  {
   "cell_type": "code",
   "execution_count": 79,
   "id": "6f2582a4",
   "metadata": {},
   "outputs": [
    {
     "name": "stdout",
     "output_type": "stream",
     "text": [
      "80\n"
     ]
    }
   ],
   "source": [
    "print(name[\"Weight\"])"
   ]
  },
  {
   "cell_type": "code",
   "execution_count": 80,
   "id": "e41fe816",
   "metadata": {},
   "outputs": [
    {
     "name": "stdout",
     "output_type": "stream",
     "text": [
      "5.1\n"
     ]
    }
   ],
   "source": [
    "print(name[\"Height\"])"
   ]
  },
  {
   "cell_type": "markdown",
   "id": "05aa2e3c",
   "metadata": {},
   "source": [
    "#### Add new element"
   ]
  },
  {
   "cell_type": "code",
   "execution_count": 81,
   "id": "0bba3b83",
   "metadata": {},
   "outputs": [
    {
     "data": {
      "text/plain": [
       "{'Weight': 80, 'Height': 5.1, 'bmi': 22}"
      ]
     },
     "execution_count": 81,
     "metadata": {},
     "output_type": "execute_result"
    }
   ],
   "source": [
    "name[\"bmi\"]=22\n",
    "name"
   ]
  },
  {
   "cell_type": "markdown",
   "id": "9864b902",
   "metadata": {},
   "source": [
    "#### different ways to print values in dict"
   ]
  },
  {
   "cell_type": "code",
   "execution_count": 82,
   "id": "f39857a9",
   "metadata": {},
   "outputs": [
    {
     "data": {
      "text/plain": [
       "dict_keys(['Weight', 'Height', 'bmi'])"
      ]
     },
     "execution_count": 82,
     "metadata": {},
     "output_type": "execute_result"
    }
   ],
   "source": [
    "name.keys()"
   ]
  },
  {
   "cell_type": "code",
   "execution_count": 83,
   "id": "c93a2e61",
   "metadata": {},
   "outputs": [
    {
     "data": {
      "text/plain": [
       "dict_values([80, 5.1, 22])"
      ]
     },
     "execution_count": 83,
     "metadata": {},
     "output_type": "execute_result"
    }
   ],
   "source": [
    "name.values()"
   ]
  },
  {
   "cell_type": "code",
   "execution_count": 84,
   "id": "9c463fb5",
   "metadata": {},
   "outputs": [
    {
     "data": {
      "text/plain": [
       "dict_items([('Weight', 80), ('Height', 5.1), ('bmi', 22)])"
      ]
     },
     "execution_count": 84,
     "metadata": {},
     "output_type": "execute_result"
    }
   ],
   "source": [
    "name.items()"
   ]
  },
  {
   "cell_type": "markdown",
   "id": "0b5cc6e2",
   "metadata": {},
   "source": [
    "#### to delete the items in dictionaries"
   ]
  },
  {
   "cell_type": "code",
   "execution_count": 85,
   "id": "79404ee0",
   "metadata": {},
   "outputs": [
    {
     "data": {
      "text/plain": [
       "{}"
      ]
     },
     "execution_count": 85,
     "metadata": {},
     "output_type": "execute_result"
    }
   ],
   "source": [
    "dict1.clear()\n",
    "dict1"
   ]
  },
  {
   "cell_type": "markdown",
   "id": "2218fe0e",
   "metadata": {},
   "source": [
    "#### delete in dictionary"
   ]
  },
  {
   "cell_type": "code",
   "execution_count": 86,
   "id": "c11d39c4",
   "metadata": {},
   "outputs": [],
   "source": [
    "del(name[\"bmi\"])"
   ]
  },
  {
   "cell_type": "code",
   "execution_count": 87,
   "id": "84a9f0d0",
   "metadata": {},
   "outputs": [
    {
     "data": {
      "text/plain": [
       "{'Weight': 80, 'Height': 5.1}"
      ]
     },
     "execution_count": 87,
     "metadata": {},
     "output_type": "execute_result"
    }
   ],
   "source": [
    "name # bmi is deleted"
   ]
  }
 ],
 "metadata": {
  "kernelspec": {
   "display_name": "Python 3 (ipykernel)",
   "language": "python",
   "name": "python3"
  },
  "language_info": {
   "codemirror_mode": {
    "name": "ipython",
    "version": 3
   },
   "file_extension": ".py",
   "mimetype": "text/x-python",
   "name": "python",
   "nbconvert_exporter": "python",
   "pygments_lexer": "ipython3",
   "version": "3.10.9"
  }
 },
 "nbformat": 4,
 "nbformat_minor": 5
}

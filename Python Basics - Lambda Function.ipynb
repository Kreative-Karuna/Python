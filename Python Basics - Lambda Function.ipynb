{
 "cells": [
  {
   "cell_type": "markdown",
   "id": "2d2fc69c",
   "metadata": {},
   "source": [
    "## Lambda Function (Anonymous function)"
   ]
  },
  {
   "cell_type": "markdown",
   "id": "47f91919",
   "metadata": {},
   "source": [
    "A lambda function is an anonymous function (i.e., defined without a name) that can take any number of arguments but, unlike normal functions, evaluates and returns only one expression.\n",
    "\n",
    "A lambda function in Python has the following syntax:\n",
    "\n",
    "lambda parameters: expression"
   ]
  },
  {
   "cell_type": "code",
   "execution_count": 1,
   "id": "e226c99a",
   "metadata": {},
   "outputs": [],
   "source": [
    "def addition(a,b):\n",
    "    return a+b"
   ]
  },
  {
   "cell_type": "code",
   "execution_count": 2,
   "id": "8d3164ec",
   "metadata": {},
   "outputs": [
    {
     "data": {
      "text/plain": [
       "56"
      ]
     },
     "execution_count": 2,
     "metadata": {},
     "output_type": "execute_result"
    }
   ],
   "source": [
    "addition(34,22)"
   ]
  },
  {
   "cell_type": "code",
   "execution_count": 3,
   "id": "e5b8caa8",
   "metadata": {},
   "outputs": [],
   "source": [
    "addition = lambda a,b : a+b   # lambda works only on single expressions"
   ]
  },
  {
   "cell_type": "code",
   "execution_count": 4,
   "id": "4bc38e6f",
   "metadata": {},
   "outputs": [
    {
     "data": {
      "text/plain": [
       "35"
      ]
     },
     "execution_count": 4,
     "metadata": {},
     "output_type": "execute_result"
    }
   ],
   "source": [
    "addition(23,12)"
   ]
  },
  {
   "cell_type": "code",
   "execution_count": 5,
   "id": "f55fbf55",
   "metadata": {},
   "outputs": [],
   "source": [
    "def even (a):\n",
    "    if a%2==0:\n",
    "        return True"
   ]
  },
  {
   "cell_type": "code",
   "execution_count": 6,
   "id": "9d815260",
   "metadata": {},
   "outputs": [
    {
     "data": {
      "text/plain": [
       "True"
      ]
     },
     "execution_count": 6,
     "metadata": {},
     "output_type": "execute_result"
    }
   ],
   "source": [
    "even(32)    # for odd no.s it doesnt returns false"
   ]
  },
  {
   "cell_type": "code",
   "execution_count": 7,
   "id": "9c08a015",
   "metadata": {},
   "outputs": [],
   "source": [
    "even1 = lambda a:a%2==0"
   ]
  },
  {
   "cell_type": "code",
   "execution_count": 8,
   "id": "46ecf4ef",
   "metadata": {},
   "outputs": [
    {
     "data": {
      "text/plain": [
       "False"
      ]
     },
     "execution_count": 8,
     "metadata": {},
     "output_type": "execute_result"
    }
   ],
   "source": [
    "even1(23)"
   ]
  },
  {
   "cell_type": "code",
   "execution_count": 9,
   "id": "e01c4c96",
   "metadata": {},
   "outputs": [],
   "source": [
    "sum1 = lambda a,b,c:a+b+c"
   ]
  },
  {
   "cell_type": "code",
   "execution_count": 10,
   "id": "8f0c442a",
   "metadata": {},
   "outputs": [
    {
     "data": {
      "text/plain": [
       "93"
      ]
     },
     "execution_count": 10,
     "metadata": {},
     "output_type": "execute_result"
    }
   ],
   "source": [
    "sum1(21,41,31)"
   ]
  },
  {
   "cell_type": "code",
   "execution_count": 11,
   "id": "35724e04",
   "metadata": {},
   "outputs": [],
   "source": [
    "prod = lambda a,b,c,d,e : a*b*c*d*e"
   ]
  },
  {
   "cell_type": "code",
   "execution_count": 12,
   "id": "073a849b",
   "metadata": {},
   "outputs": [
    {
     "data": {
      "text/plain": [
       "0"
      ]
     },
     "execution_count": 12,
     "metadata": {},
     "output_type": "execute_result"
    }
   ],
   "source": [
    "prod(1,5,20,31,0)"
   ]
  },
  {
   "cell_type": "code",
   "execution_count": 13,
   "id": "df7198cc",
   "metadata": {},
   "outputs": [
    {
     "data": {
      "text/plain": [
       "648.0"
      ]
     },
     "execution_count": 13,
     "metadata": {},
     "output_type": "execute_result"
    }
   ],
   "source": [
    "prod(1.2,3,4,4.5,10)"
   ]
  },
  {
   "cell_type": "code",
   "execution_count": 14,
   "id": "2551bbb5",
   "metadata": {},
   "outputs": [
    {
     "ename": "TypeError",
     "evalue": "<lambda>() missing 3 required positional arguments: 'c', 'd', and 'e'",
     "output_type": "error",
     "traceback": [
      "\u001b[1;31m---------------------------------------------------------------------------\u001b[0m",
      "\u001b[1;31mTypeError\u001b[0m                                 Traceback (most recent call last)",
      "Cell \u001b[1;32mIn[14], line 1\u001b[0m\n\u001b[1;32m----> 1\u001b[0m \u001b[43mprod\u001b[49m\u001b[43m(\u001b[49m\u001b[38;5;241;43m1\u001b[39;49m\u001b[43m,\u001b[49m\u001b[38;5;241;43m2\u001b[39;49m\u001b[43m)\u001b[49m\n",
      "\u001b[1;31mTypeError\u001b[0m: <lambda>() missing 3 required positional arguments: 'c', 'd', and 'e'"
     ]
    }
   ],
   "source": [
    "prod(1,2) # its throwing error as iot doesn't fulfill the criteria of no. of elements"
   ]
  }
 ],
 "metadata": {
  "kernelspec": {
   "display_name": "Python 3 (ipykernel)",
   "language": "python",
   "name": "python3"
  },
  "language_info": {
   "codemirror_mode": {
    "name": "ipython",
    "version": 3
   },
   "file_extension": ".py",
   "mimetype": "text/x-python",
   "name": "python",
   "nbconvert_exporter": "python",
   "pygments_lexer": "ipython3",
   "version": "3.10.9"
  }
 },
 "nbformat": 4,
 "nbformat_minor": 5
}

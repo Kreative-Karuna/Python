{
 "cells": [
  {
   "cell_type": "markdown",
   "id": "068d021c",
   "metadata": {},
   "source": [
    "## Map Functions\n",
    "\n",
    "The map() function executes a specified function for each item in an iterable. The item is sent to the function as a parameter.\n",
    "Syntax : map(function, iterables)"
   ]
  },
  {
   "cell_type": "code",
   "execution_count": 1,
   "id": "d8df3ddb",
   "metadata": {},
   "outputs": [],
   "source": [
    "def even_odd(num):\n",
    "    if num%2==0:\n",
    "        print(\"The number is even\")\n",
    "    else:\n",
    "        print(\"The number is odd\")"
   ]
  },
  {
   "cell_type": "code",
   "execution_count": 2,
   "id": "80a891d0",
   "metadata": {},
   "outputs": [
    {
     "name": "stdout",
     "output_type": "stream",
     "text": [
      "The number is odd\n"
     ]
    }
   ],
   "source": [
    "even_odd(23) # Here we get one parameter at a time."
   ]
  },
  {
   "cell_type": "code",
   "execution_count": 3,
   "id": "1f988313",
   "metadata": {},
   "outputs": [],
   "source": [
    "lst = 34, 67,78, 97, 23, 34, 42, 56, 76, 0, 1, 54  # whenever we have multiple numbers, we can use map function"
   ]
  },
  {
   "cell_type": "code",
   "execution_count": 4,
   "id": "58d8e2c8",
   "metadata": {},
   "outputs": [
    {
     "data": {
      "text/plain": [
       "<map at 0x1638eda7910>"
      ]
     },
     "execution_count": 4,
     "metadata": {},
     "output_type": "execute_result"
    }
   ],
   "source": [
    "map(even_odd,lst) # this is lazy loading technique, memory is not instantiated, if we convert it into list, we get the results."
   ]
  },
  {
   "cell_type": "code",
   "execution_count": 5,
   "id": "6061b9d0",
   "metadata": {},
   "outputs": [
    {
     "name": "stdout",
     "output_type": "stream",
     "text": [
      "The number is even\n",
      "The number is odd\n",
      "The number is even\n",
      "The number is odd\n",
      "The number is odd\n",
      "The number is even\n",
      "The number is even\n",
      "The number is even\n",
      "The number is even\n",
      "The number is even\n",
      "The number is odd\n",
      "The number is even\n"
     ]
    },
    {
     "data": {
      "text/plain": [
       "[None, None, None, None, None, None, None, None, None, None, None, None]"
      ]
     },
     "execution_count": 5,
     "metadata": {},
     "output_type": "execute_result"
    }
   ],
   "source": [
    "list(map(even_odd,lst)) # 1st parameter is function & 2nd parameter is iterable"
   ]
  }
 ],
 "metadata": {
  "kernelspec": {
   "display_name": "Python 3 (ipykernel)",
   "language": "python",
   "name": "python3"
  },
  "language_info": {
   "codemirror_mode": {
    "name": "ipython",
    "version": 3
   },
   "file_extension": ".py",
   "mimetype": "text/x-python",
   "name": "python",
   "nbconvert_exporter": "python",
   "pygments_lexer": "ipython3",
   "version": "3.10.9"
  }
 },
 "nbformat": 4,
 "nbformat_minor": 5
}

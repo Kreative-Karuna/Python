{
 "cells": [
  {
   "cell_type": "markdown",
   "id": "b242a38e",
   "metadata": {},
   "source": [
    "#### Function\n",
    "\n",
    "A function is a block of code which only runs when it is called. We can use the same function multiple times in our program which makes our code reusable. Functions help us break our code into chunks to make our program readable and easy to understand."
   ]
  },
  {
   "cell_type": "code",
   "execution_count": 1,
   "id": "ee1615fa",
   "metadata": {},
   "outputs": [
    {
     "name": "stdout",
     "output_type": "stream",
     "text": [
      "Hello World\n"
     ]
    }
   ],
   "source": [
    "def my_function():\n",
    "  print(\"Hello World\")\n",
    "\n",
    "my_function()"
   ]
  },
  {
   "cell_type": "code",
   "execution_count": 2,
   "id": "5af41d21",
   "metadata": {},
   "outputs": [
    {
     "name": "stdout",
     "output_type": "stream",
     "text": [
      "The youngest student is Ria\n"
     ]
    }
   ],
   "source": [
    "def my_function(*students):\n",
    "  print(\"The youngest student is \" + students[4])\n",
    "\n",
    "my_function(\"Jiya\", \"Tia\", \"Lina\", \"Sia\", \"Ria\", \"Pia\")  # When the number of arguments is unknown, *is added before the parameter name:"
   ]
  },
  {
   "cell_type": "markdown",
   "id": "686c0e5c",
   "metadata": {},
   "source": [
    "#### Arbitrary Keyword Arguments, **kwargs\n",
    "When we do not know how many keyword arguments that will be passed into the function, add two asterisk: ** before the parameter name in the function definition.\n",
    "\n",
    "This way the function will receive a dictionary of arguments, and can access the items accordingly:"
   ]
  },
  {
   "cell_type": "code",
   "execution_count": 3,
   "id": "a523c5bf",
   "metadata": {},
   "outputs": [
    {
     "name": "stdout",
     "output_type": "stream",
     "text": [
      "Student's last name is Ratnam\n"
     ]
    }
   ],
   "source": [
    "def my_function(**students):\n",
    "  print(\"Student's last name is \" + students[\"lname\"])\n",
    "\n",
    "my_function(fname = \"Tia\", lname = \"Ratnam\")"
   ]
  },
  {
   "cell_type": "code",
   "execution_count": 4,
   "id": "69962008",
   "metadata": {},
   "outputs": [],
   "source": [
    "def my_function(country = \"Norway\"):\n",
    "  print(\"I am from \" + country)"
   ]
  },
  {
   "cell_type": "code",
   "execution_count": 5,
   "id": "4308aa86",
   "metadata": {},
   "outputs": [
    {
     "name": "stdout",
     "output_type": "stream",
     "text": [
      "I am from Sweden\n",
      "I am from India\n",
      "I am from Norway\n",
      "I am from Brazil\n"
     ]
    }
   ],
   "source": [
    "my_function(\"Sweden\") # If we call the function without argument, it uses the default value, here Norway\n",
    "my_function(\"India\")\n",
    "my_function()\n",
    "my_function(\"Brazil\")"
   ]
  },
  {
   "cell_type": "markdown",
   "id": "e49149bc",
   "metadata": {},
   "source": [
    "When we send any data types of argument to a function (string, number, list, dictionary etc.) it will be treated as the same data type inside the function.\n",
    "\n",
    "E.g.  List as an argument, it will still be a List when it reaches the function"
   ]
  },
  {
   "cell_type": "code",
   "execution_count": 6,
   "id": "e7f18e76",
   "metadata": {},
   "outputs": [
    {
     "name": "stdout",
     "output_type": "stream",
     "text": [
      "apple\n",
      "banana\n",
      "cherry\n"
     ]
    }
   ],
   "source": [
    "def my_function(food):\n",
    "  for x in food:\n",
    "    print(x)\n",
    "\n",
    "fruits = [\"apple\", \"banana\", \"cherry\"]\n",
    "\n",
    "my_function(fruits)"
   ]
  },
  {
   "cell_type": "markdown",
   "id": "b1583bcf",
   "metadata": {},
   "source": [
    "The return statement denotes that the function has ended. Any code after return is not executed."
   ]
  },
  {
   "cell_type": "code",
   "execution_count": 7,
   "id": "b901d8db",
   "metadata": {},
   "outputs": [],
   "source": [
    "def find_square(num):\n",
    "    result = num * num\n",
    "    return result"
   ]
  },
  {
   "cell_type": "code",
   "execution_count": 8,
   "id": "1eba921b",
   "metadata": {},
   "outputs": [
    {
     "data": {
      "text/plain": [
       "9"
      ]
     },
     "execution_count": 8,
     "metadata": {},
     "output_type": "execute_result"
    }
   ],
   "source": [
    "square = find_square(3)\n",
    "square"
   ]
  },
  {
   "cell_type": "markdown",
   "id": "8686796a",
   "metadata": {},
   "source": [
    "Code reusablity"
   ]
  },
  {
   "cell_type": "code",
   "execution_count": 9,
   "id": "48ef4210",
   "metadata": {},
   "outputs": [
    {
     "name": "stdout",
     "output_type": "stream",
     "text": [
      "Square of 1 = 1\n",
      "Square of 2 = 4\n",
      "Square of 3 = 9\n"
     ]
    }
   ],
   "source": [
    "def get_square(num):\n",
    "    return num * num\n",
    "\n",
    "for i in [1,2,3]:\n",
    "    result = get_square(i)\n",
    "    print('Square of',i, '=',result)"
   ]
  },
  {
   "cell_type": "code",
   "execution_count": 10,
   "id": "5dd57b84",
   "metadata": {},
   "outputs": [],
   "source": [
    "# This is a recursive function to find the factorial of an integer\n",
    "\n",
    "def factorial(x):\n",
    "    if x == 1:\n",
    "        return 1\n",
    "    else:\n",
    "        return (x * factorial(x-1))"
   ]
  },
  {
   "cell_type": "code",
   "execution_count": 11,
   "id": "01682588",
   "metadata": {},
   "outputs": [
    {
     "name": "stdout",
     "output_type": "stream",
     "text": [
      "The factorial of 5 is 120\n"
     ]
    }
   ],
   "source": [
    "num = 5\n",
    "print(\"The factorial of\", num, \"is\", factorial(num))"
   ]
  },
  {
   "cell_type": "code",
   "execution_count": 12,
   "id": "0f728e04",
   "metadata": {},
   "outputs": [
    {
     "name": "stdout",
     "output_type": "stream",
     "text": [
      "\n",
      "\n",
      "Num_series\n",
      "1\n",
      "3\n",
      "6\n",
      "10\n",
      "15\n"
     ]
    },
    {
     "data": {
      "text/plain": [
       "15"
      ]
     },
     "execution_count": 12,
     "metadata": {},
     "output_type": "execute_result"
    }
   ],
   "source": [
    "# Here num_series is a function that we have defined to call itself. We use the k variable as the data, which decreases (-1) every time. \n",
    "# The function ends when the condition is not greater than 0 (i.e. when it is 0).\n",
    "\n",
    "def num_series(k):\n",
    "  if(k > 0):\n",
    "    result = k + num_series(k - 1)\n",
    "    print(result)\n",
    "  else:\n",
    "    result = 0\n",
    "  return result\n",
    "\n",
    "print(\"\\n\\nNum_series\")\n",
    "num_series(5)"
   ]
  }
 ],
 "metadata": {
  "kernelspec": {
   "display_name": "Python 3 (ipykernel)",
   "language": "python",
   "name": "python3"
  },
  "language_info": {
   "codemirror_mode": {
    "name": "ipython",
    "version": 3
   },
   "file_extension": ".py",
   "mimetype": "text/x-python",
   "name": "python",
   "nbconvert_exporter": "python",
   "pygments_lexer": "ipython3",
   "version": "3.10.9"
  }
 },
 "nbformat": 4,
 "nbformat_minor": 5
}
